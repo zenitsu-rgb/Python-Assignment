{
 "cells": [
  {
   "cell_type": "markdown",
   "id": "be5f5ef2",
   "metadata": {},
   "source": [
    "### Q1. Electricity Bill Calculator\n",
    "This program calculates the total electricity bill based on unit usage."
   ]
  },
  {
   "cell_type": "code",
   "execution_count": null,
   "id": "35ff6966",
   "metadata": {},
   "outputs": [],
   "source": [
    "# Get the number of units from user\n",
    "units = int(input(\"Enter number of units consumed: \"))\n",
    "bill = 0\n",
    "\n",
    "# First 100 units are free\n",
    "if units > 200:\n",
    "    # First 100 units: free, next 100: Rs.5/unit, remaining: Rs.10/unit\n",
    "    bill = (units - 200) * 10 + 100 * 5\n",
    "elif units > 100:\n",
    "    # Only pay Rs.5/unit for units between 101 and 200\n",
    "    bill = (units - 100) * 5\n",
    "else:\n",
    "    bill = 0  # No charge for first 100 units\n",
    "\n",
    "print(\"Total Electricity Bill: Rs\", bill)\n"
   ]
  },
  {
   "cell_type": "markdown",
   "id": "bea3e9b2",
   "metadata": {},
   "source": [
    "### Q2. Grade Finder\n",
    "Takes percentage input and prints the grade according to standard ranges."
   ]
  },
  {
   "cell_type": "code",
   "execution_count": null,
   "id": "981e2cc0",
   "metadata": {},
   "outputs": [],
   "source": [
    "# Ask user for percentage\n",
    "percentage = float(input(\"Enter your percentage: \"))\n",
    "\n",
    "# Determine grade\n",
    "if percentage > 90:\n",
    "    print(\"Grade: A\")\n",
    "elif percentage > 80:\n",
    "    print(\"Grade: B\")\n",
    "elif percentage >= 60:\n",
    "    print(\"Grade: C\")\n",
    "else:\n",
    "    print(\"Grade: D\")\n"
   ]
  },
  {
   "cell_type": "markdown",
   "id": "d595b6ca",
   "metadata": {},
   "source": [
    "### Q3. Youngest Person\n",
    "Compares the ages of four people and identifies the youngest."
   ]
  },
  {
   "cell_type": "code",
   "execution_count": null,
   "id": "f61f4e29",
   "metadata": {},
   "outputs": [],
   "source": [
    "# Input ages of four people\n",
    "a = int(input(\"Enter age of person 1: \"))\n",
    "b = int(input(\"Enter age of person 2: \"))\n",
    "c = int(input(\"Enter age of person 3: \"))\n",
    "d = int(input(\"Enter age of person 4: \"))\n",
    "\n",
    "# Assume first person is youngest initially\n",
    "youngest = a\n",
    "\n",
    "# Compare to find youngest\n",
    "if b < youngest:\n",
    "    youngest = b\n",
    "if c < youngest:\n",
    "    youngest = c\n",
    "if d < youngest:\n",
    "    youngest = d\n",
    "\n",
    "print(\"The youngest age is:\", youngest)\n"
   ]
  },
  {
   "cell_type": "markdown",
   "id": "26d7f486",
   "metadata": {},
   "source": [
    "### Q4. Bonus Calculator\n",
    "Calculates bonus based on years of service in a company."
   ]
  },
  {
   "cell_type": "code",
   "execution_count": null,
   "id": "e4ef83b0",
   "metadata": {},
   "outputs": [],
   "source": [
    "# Input salary and years of service\n",
    "salary = float(input(\"Enter your salary: \"))\n",
    "years = int(input(\"Enter years of service: \"))\n",
    "\n",
    "# Calculate bonus percentage\n",
    "if years > 10:\n",
    "    bonus = salary * 0.10\n",
    "elif years >= 6:\n",
    "    bonus = salary * 0.08\n",
    "else:\n",
    "    bonus = salary * 0.05\n",
    "\n",
    "print(\"Bonus amount: Rs\", bonus)\n"
   ]
  },
  {
   "cell_type": "markdown",
   "id": "4782242d",
   "metadata": {},
   "source": [
    "### Q5. Second Largest Number\n",
    "Finds the second largest among three given numbers."
   ]
  },
  {
   "cell_type": "code",
   "execution_count": null,
   "id": "7933b12e",
   "metadata": {},
   "outputs": [],
   "source": [
    "# Get three numbers from user\n",
    "a = int(input(\"Enter first number: \"))\n",
    "b = int(input(\"Enter second number: \"))\n",
    "c = int(input(\"Enter third number: \"))\n",
    "\n",
    "# Compare to find the second largest\n",
    "if (a > b and a < c) or (a > c and a < b):\n",
    "    second = a\n",
    "elif (b > a and b < c) or (b > c and b < a):\n",
    "    second = b\n",
    "else:\n",
    "    second = c\n",
    "\n",
    "print(\"Second largest number is:\", second)\n"
   ]
  },
  {
   "cell_type": "markdown",
   "id": "2bdadc8d",
   "metadata": {},
   "source": [
    "### Q6. Discount Calculator\n",
    "Calculates net price after applying discount based on marked price."
   ]
  },
  {
   "cell_type": "code",
   "execution_count": null,
   "id": "b1867fbd",
   "metadata": {},
   "outputs": [],
   "source": [
    "# Input the marked price\n",
    "price = float(input(\"Enter marked price: \"))\n",
    "\n",
    "# Determine discount rate\n",
    "if price > 10000:\n",
    "    discount = price * 0.20\n",
    "elif price > 7000:\n",
    "    discount = price * 0.15\n",
    "else:\n",
    "    discount = price * 0.10\n",
    "\n",
    "# Calculate net amount to pay\n",
    "net_amount = price - discount\n",
    "print(\"Net amount to be paid: Rs\", net_amount)\n"
   ]
  },
  {
   "cell_type": "markdown",
   "id": "31dc50da",
   "metadata": {},
   "source": [
    "### Q7. Stream Allocation\n",
    "Decides stream for a student based on marks in multiple subjects."
   ]
  },
  {
   "cell_type": "code",
   "execution_count": null,
   "id": "afcbda36",
   "metadata": {},
   "outputs": [],
   "source": [
    "# Get marks for all subjects\n",
    "eng = int(input(\"Enter English marks: \"))\n",
    "math = int(input(\"Enter Math marks: \"))\n",
    "sci = int(input(\"Enter Science marks: \"))\n",
    "sst = int(input(\"Enter Social Studies marks: \"))\n",
    "\n",
    "# Determine the stream based on marks\n",
    "if eng > 80 and math > 80 and sci > 80 and sst > 80:\n",
    "    print(\"Stream: Science\")\n",
    "elif eng > 80 and math > 50 and sci > 50:\n",
    "    print(\"Stream: Commerce\")\n",
    "elif eng > 80 and sst > 80:\n",
    "    print(\"Stream: Humanities\")\n",
    "else:\n",
    "    print(\"No stream allotted\")\n"
   ]
  },
  {
   "cell_type": "markdown",
   "id": "54aaaf54",
   "metadata": {},
   "source": [
    "### Q8. Multiple of Five Checker\n",
    "Prints 'Hello' if number is a multiple of 5, otherwise 'Bye'."
   ]
  },
  {
   "cell_type": "code",
   "execution_count": null,
   "id": "9c4a263e",
   "metadata": {},
   "outputs": [],
   "source": [
    "# Get number input from user\n",
    "num = int(input(\"Enter a number: \"))\n",
    "\n",
    "# Check for multiple of 5\n",
    "if num % 5 == 0:\n",
    "    print(\"Hello\")\n",
    "else:\n",
    "    print(\"Bye\")\n"
   ]
  },
  {
   "cell_type": "markdown",
   "id": "db54fe2c",
   "metadata": {},
   "source": [
    "### Q9. Last Digit Divisibility\n",
    "Checks if the last digit of a number is divisible by 3."
   ]
  },
  {
   "cell_type": "code",
   "execution_count": null,
   "id": "02dc4fd8",
   "metadata": {},
   "outputs": [],
   "source": [
    "# Get number from user\n",
    "num = int(input(\"Enter a number: \"))\n",
    "\n",
    "# Extract last digit\n",
    "last_digit = num % 10\n",
    "\n",
    "# Check if last digit is divisible by 3\n",
    "if last_digit % 3 == 0:\n",
    "    print(\"Last digit is divisible by 3\")\n",
    "else:\n",
    "    print(\"Last digit is not divisible by 3\")\n"
   ]
  },
  {
   "cell_type": "markdown",
   "id": "05caa3be",
   "metadata": {},
   "source": [
    "### Q10. Three-Digit Number Checker\n",
    "Checks if the entered number is a 3-digit number."
   ]
  },
  {
   "cell_type": "code",
   "execution_count": null,
   "id": "779e5326",
   "metadata": {},
   "outputs": [],
   "source": [
    "# Get input number\n",
    "num = int(input(\"Enter a number: \"))\n",
    "\n",
    "# Check if it's a 3-digit number\n",
    "if 100 <= num <= 999:\n",
    "    print(\"It is a three-digit number\")\n",
    "else:\n",
    "    print(\"It is not a three-digit number\")\n"
   ]
  }
 ],
 "metadata": {},
 "nbformat": 4,
 "nbformat_minor": 5
}
