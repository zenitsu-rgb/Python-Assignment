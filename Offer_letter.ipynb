{
 "cells": [
  {
   "cell_type": "code",
   "execution_count": null,
   "id": "5177976c-cb84-4833-be33-33d1ce785a75",
   "metadata": {},
   "outputs": [
    {
     "name": "stdin",
     "output_type": "stream",
     "text": [
      "Enter the company address:  sector 16, Noida\n",
      "Enter the candidate's full name:  Shriyanshu verma\n",
      "Enter the position offered:  Python dev.\n"
     ]
    }
   ],
   "source": [
    "def generate_offer_letter():\n",
    "    # Collecting input from the user\n",
    "    company_address = input(\"Enter the company address: \")\n",
    "    candidate_name = input(\"Enter the candidate's full name: \")\n",
    "    position = input(\"Enter the position offered: \")\n",
    "    joining_date = input(\"Enter the expected date of joining (dd-mm-yyyy): \")\n",
    "    compensation = input(\"Enter the total compensation package: \")\n",
    "    hr_name = input(\"Enter the HR Manager's name: \")\n",
    "    hr_email = input(\"Enter the HR email address: \")\n",
    "\n",
    "    # Creating the offer letter\n",
    "    offer_letter = f\"\"\"\n",
    "{company_address}\n",
    "\n",
    "Dear {candidate_name},\n",
    "\n",
    "Subject: Offer of Employment for the position of {position}\n",
    "\n",
    "We are delighted to extend this formal offer of employment to you for the position of {position} at our organization. Based on your qualifications and the skills you demonstrated during the recruitment process, we are confident that you will be a valuable addition to our team.\n",
    "\n",
    "As discussed, your expected date of joining is {joining_date}. Your total compensation package will be {compensation}, which includes all salary components as per the company’s policy. Further details regarding your compensation will be provided in your employment contract.\n",
    "\n",
    "We expect you to bring your best efforts to help the company achieve its goals, and we are committed to supporting your professional growth during your time with us.\n",
    "\n",
    "Please confirm your acceptance of this offer by sending an email to {hr_email} at your earliest convenience. Should you have any queries regarding this offer, feel free to reach out to us.\n",
    "\n",
    "We look forward to having you onboard and are excited about the great things we can accomplish together.\n",
    "\n",
    "Sincerely,\n",
    "\n",
    "{hr_name}\n",
    "HR Manager\n",
    "\"\"\"\n",
    "    print(\"\\n--- Generated Offer Letter ---\\n\")\n",
    "    print(offer_letter)\n",
    "\n",
    "\n",
    "# Run the function\n",
    "generate_offer_letter()\n"
   ]
  },
  {
   "cell_type": "code",
   "execution_count": null,
   "id": "f08eaf8b-4a51-4c0f-91b1-76433a6c9f0e",
   "metadata": {},
   "outputs": [],
   "source": []
  }
 ],
 "metadata": {
  "kernelspec": {
   "display_name": "Python 3 (ipykernel)",
   "language": "python",
   "name": "python3"
  },
  "language_info": {
   "codemirror_mode": {
    "name": "ipython",
    "version": 3
   },
   "file_extension": ".py",
   "mimetype": "text/x-python",
   "name": "python",
   "nbconvert_exporter": "python",
   "pygments_lexer": "ipython3",
   "version": "3.13.5"
  }
 },
 "nbformat": 4,
 "nbformat_minor": 5
}
