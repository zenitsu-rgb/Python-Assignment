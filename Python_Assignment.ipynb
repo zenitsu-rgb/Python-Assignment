{
 "cells": [
  {
   "cell_type": "markdown",
   "id": "0a2f6c9e",
   "metadata": {},
   "source": [
    "# Python Basics Assignment"
   ]
  },
  {
   "cell_type": "markdown",
   "id": "a4c4a4b8",
   "metadata": {},
   "source": [
    "### 1. Identify which of the following are *values* and which are *expressions*"
   ]
  },
  {
   "cell_type": "code",
   "execution_count": null,
   "id": "dd43aac6",
   "metadata": {},
   "outputs": [],
   "source": [
    "* → Expression (Multiplication operator)\n",
    "'hello' → Value (String literal)\n",
    "-87.8 → Value (Float number)\n",
    "- → Expression (Subtraction operator)\n",
    "/ → Expression (Division operator)\n",
    "+ → Expression (Addition operator)\n",
    "6 → Value (Integer)"
   ]
  },
  {
   "cell_type": "markdown",
   "id": "1bf99605",
   "metadata": {},
   "source": [
    "### 2. What is the difference between a string and a variable?"
   ]
  },
  {
   "cell_type": "code",
   "execution_count": null,
   "id": "1a420dc6",
   "metadata": {},
   "outputs": [],
   "source": [
    "# A string is text enclosed in quotes, like 'apple'.\n",
    "# A variable is a named reference to a value, which can be a string, number, etc.\n",
    "fruit = 'apple'  # Here, 'apple' is a string, and fruit is the variable"
   ]
  },
  {
   "cell_type": "markdown",
   "id": "1720acef",
   "metadata": {},
   "source": [
    "### 3. Describe any three data types in Python."
   ]
  },
  {
   "cell_type": "code",
   "execution_count": null,
   "id": "9eb63ab5",
   "metadata": {},
   "outputs": [],
   "source": [
    "# Integer (int): Whole numbers\n",
    "# Float (float): Numbers with decimal points\n",
    "# String (str): Sequence of characters enclosed in quotes"
   ]
  },
  {
   "cell_type": "markdown",
   "id": "62c413c0",
   "metadata": {},
   "source": [
    "### 4. What is an expression made up of? What do all expressions do?"
   ]
  },
  {
   "cell_type": "code",
   "execution_count": null,
   "id": "0e6de923",
   "metadata": {},
   "outputs": [],
   "source": [
    "# Expressions consist of values, variables, and operators.\n",
    "# They are evaluated to produce a result.\n",
    "result = 3 + 4  # result is 7"
   ]
  },
  {
   "cell_type": "markdown",
   "id": "0414e0b1",
   "metadata": {},
   "source": [
    "### 5. What is the difference between an expression and a statement?"
   ]
  },
  {
   "cell_type": "code",
   "execution_count": null,
   "id": "8d251437",
   "metadata": {},
   "outputs": [],
   "source": [
    "# Expression returns a value: 5 + 3\n",
    "# Statement performs an action: x = 8"
   ]
  },
  {
   "cell_type": "markdown",
   "id": "108df01d",
   "metadata": {},
   "source": [
    "### 6. After running the following code, what is the value of `bacon`?"
   ]
  },
  {
   "cell_type": "code",
   "execution_count": null,
   "id": "c499dd14",
   "metadata": {},
   "outputs": [],
   "source": [
    "bacon = 22\n",
    "bacon + 1  # Returns 23, but bacon is still 22\n",
    "print(bacon)"
   ]
  },
  {
   "cell_type": "markdown",
   "id": "93091607",
   "metadata": {},
   "source": [
    "### 7. What are the values of the following expressions?"
   ]
  },
  {
   "cell_type": "code",
   "execution_count": null,
   "id": "a679d757",
   "metadata": {},
   "outputs": [],
   "source": [
    "print('spam' + 'spamspam')  # Output: 'spamspamspam'\n",
    "print('spam' * 3)           # Output: 'spamspamspam'"
   ]
  },
  {
   "cell_type": "markdown",
   "id": "22030700",
   "metadata": {},
   "source": [
    "### 8. Why is `eggs` a valid variable name but `100` is not?"
   ]
  },
  {
   "cell_type": "code",
   "execution_count": null,
   "id": "ceb7978c",
   "metadata": {},
   "outputs": [],
   "source": [
    "# Variable names must begin with a letter or underscore.\n",
    "# 'eggs' is valid, '100' is not because it starts with a number."
   ]
  },
  {
   "cell_type": "markdown",
   "id": "8e65b184",
   "metadata": {},
   "source": [
    "### 9. Which functions convert values to int, float, or string?"
   ]
  },
  {
   "cell_type": "code",
   "execution_count": null,
   "id": "03a6add4",
   "metadata": {},
   "outputs": [],
   "source": [
    "int('5')    # Converts to integer\n",
    "float('3.14')  # Converts to float\n",
    "str(100)    # Converts to string"
   ]
  },
  {
   "cell_type": "markdown",
   "id": "536508b3",
   "metadata": {},
   "source": [
    "### 10. Why does the following code cause an error and how to fix it?"
   ]
  },
  {
   "cell_type": "code",
   "execution_count": null,
   "id": "a4b45990",
   "metadata": {},
   "outputs": [],
   "source": [
    "# Original (Error):\n",
    "# 'I have eaten ' + 99 + ' burritos.'  # TypeError\n",
    "\n",
    "# Fix:\n",
    "print('I have eaten ' + str(99) + ' burritos.')"
   ]
  }
 ],
 "metadata": {},
 "nbformat": 4,
 "nbformat_minor": 5
}
